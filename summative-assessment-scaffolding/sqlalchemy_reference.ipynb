{
 "cells": [
  {
   "cell_type": "code",
   "execution_count": 5,
   "metadata": {},
   "outputs": [],
   "source": [
    "from sqlalchemy import create_engine\n",
    "from sqlalchemy.sql import text\n",
    "\n",
    "# Replace these with your installation details\n",
    "MARIADB_USER = 'oltp_user'\n",
    "MARIADB_HOST = '127.0.0.1' # localhost\n",
    "MARIADB_PORT = '3306'\n",
    "MARIADB_PASS = 'oltp_pass'\n",
    "MARIADB_DB = 'oltp'\n",
    "\n",
    "CONNECTION_URI = f'mysql+pymysql://{MARIADB_USER}:{MARIADB_PASS}@{MARIADB_HOST}:{MARIADB_PORT}/{MARIADB_DB}'\n",
    "\n",
    "# Create the SQLAlchemy engine object. This will provide connections to MariaDB.\n",
    "# The echo=True keyword argument will make SQLAlchemy print its activity. Use echo=False to stop it.\n",
    "engine = create_engine(CONNECTION_URI, echo=True, future=True)"
   ]
  },
  {
   "cell_type": "code",
   "execution_count": 9,
   "metadata": {},
   "outputs": [
    {
     "name": "stdout",
     "output_type": "stream",
     "text": [
      "2022-06-20 10:52:03,123 INFO sqlalchemy.engine.Engine BEGIN (implicit)\n",
      "2022-06-20 10:52:03,125 INFO sqlalchemy.engine.Engine SELECT 1;\n",
      "2022-06-20 10:52:03,128 INFO sqlalchemy.engine.Engine [cached since 400.1s ago] {}\n",
      "2022-06-20 10:52:03,129 INFO sqlalchemy.engine.Engine ROLLBACK\n",
      "[(1,)]\n"
     ]
    }
   ],
   "source": [
    "# Test the connection by just executing the SQL statement \"SELECT 1;\"\n",
    "# This is the \"hello world\" equivalent for databases\n",
    "\n",
    "# This is a context manager. It will automatically close the connection once you leave its scope.\n",
    "with engine.connect() as conn:\n",
    "    query = '''SELECT 1;''' # This is just a SQL query expressed in a Python string\n",
    "    stmt = text(query) # This is wrapping a string query in a special \"text\" object from SQLAlchemy. This will be important later.\n",
    "    response = conn.execute(stmt) # Send the query to the connection and make MariaDB execute your query. Save the result cursor in a `response` variable\n",
    "    # conn.commit() # Use this line to persist the changes you made to the database. No need to do it here, but this will be useful later.\n",
    "    \n",
    "print(response.all()) # Use response.all() to fetch all the objects from the response."
   ]
  },
  {
   "cell_type": "code",
   "execution_count": 11,
   "metadata": {},
   "outputs": [
    {
     "name": "stdout",
     "output_type": "stream",
     "text": [
      "2022-06-20 10:56:55,840 INFO sqlalchemy.engine.Engine BEGIN (implicit)\n",
      "2022-06-20 10:56:55,841 INFO sqlalchemy.engine.Engine \n",
      "    CREATE TABLE IF NOT EXISTS user (\n",
      "        id INTEGER AUTO_INCREMENT PRIMARY KEY,\n",
      "        first_name TEXT,\n",
      "        last_name TEXT,\n",
      "        email TEXT\n",
      "    );\n",
      "    \n",
      "2022-06-20 10:56:55,842 INFO sqlalchemy.engine.Engine [generated in 0.00192s] {}\n",
      "2022-06-20 10:56:55,844 INFO sqlalchemy.engine.Engine COMMIT\n"
     ]
    }
   ],
   "source": [
    "# Create a table for users called `user` (because every row is about a user)\n",
    "\n",
    "with engine.connect() as conn:\n",
    "    query = '''\n",
    "    CREATE TABLE IF NOT EXISTS user (\n",
    "        id INTEGER AUTO_INCREMENT PRIMARY KEY,\n",
    "        first_name TEXT,\n",
    "        last_name TEXT,\n",
    "        email TEXT\n",
    "    );\n",
    "    '''\n",
    "    stmt = text(query)\n",
    "    conn.execute(stmt) # This returns nothing, so don't capture a response\n",
    "    conn.commit()"
   ]
  },
  {
   "cell_type": "code",
   "execution_count": 16,
   "metadata": {},
   "outputs": [
    {
     "name": "stdout",
     "output_type": "stream",
     "text": [
      "2022-06-20 11:05:00,083 INFO sqlalchemy.engine.Engine BEGIN (implicit)\n",
      "2022-06-20 11:05:00,085 INFO sqlalchemy.engine.Engine \n",
      "        INSERT INTO user (first_name, last_name, email)\n",
      "        VALUES\n",
      "        (%(first_name)s, %(last_name)s, %(email)s);\n",
      "        \n",
      "2022-06-20 11:05:00,086 INFO sqlalchemy.engine.Engine [generated in 0.00383s] {'first_name': 'Matthew', 'last_name': 'Uy', 'email': 'matthew.uy@domain.com'}\n",
      "2022-06-20 11:05:00,089 INFO sqlalchemy.engine.Engine \n",
      "        INSERT INTO user (first_name, last_name, email)\n",
      "        VALUES\n",
      "        (%(first_name)s, %(last_name)s, %(email)s);\n",
      "        \n",
      "2022-06-20 11:05:00,090 INFO sqlalchemy.engine.Engine [cached since 0.007468s ago] {'first_name': 'Aly', 'last_name': 'Yap', 'email': 'aly.yap@domain.com'}\n",
      "2022-06-20 11:05:00,092 INFO sqlalchemy.engine.Engine \n",
      "        INSERT INTO user (first_name, last_name, email)\n",
      "        VALUES\n",
      "        (%(first_name)s, %(last_name)s, %(email)s);\n",
      "        \n",
      "2022-06-20 11:05:00,094 INFO sqlalchemy.engine.Engine [cached since 0.01155s ago] {'first_name': 'Bong', 'last_name': 'Olpoc', 'email': 'bong.olpoc@domain.com'}\n",
      "2022-06-20 11:05:00,096 INFO sqlalchemy.engine.Engine COMMIT\n"
     ]
    }
   ],
   "source": [
    "# Add some values to the `user` table dynamically\n",
    "\n",
    "users = [\n",
    "    {'first_name': 'Matthew', 'last_name': 'Uy', 'email': 'matthew.uy@domain.com'},\n",
    "    {'first_name': 'Aly', 'last_name': 'Yap', 'email': 'aly.yap@domain.com'},\n",
    "    {'first_name': 'Bong', 'last_name': 'Olpoc', 'email': 'bong.olpoc@domain.com'},\n",
    "]\n",
    "\n",
    "with engine.connect() as conn:\n",
    "    for user in users:\n",
    "        query = '''\n",
    "        INSERT INTO user (first_name, last_name, email)\n",
    "        VALUES\n",
    "        (:first_name, :last_name, :email);\n",
    "        ''' # These tokens with prefixed colons are stand-ins for values that you will pass later.\n",
    "        stmt = text(query)\n",
    "        conn.execute(stmt, user) # Pass a dictionary whose keys are the parameters from the query and whose values are the actual values you want to insert.\n",
    "    conn.commit()"
   ]
  },
  {
   "cell_type": "code",
   "execution_count": 20,
   "metadata": {},
   "outputs": [
    {
     "name": "stdout",
     "output_type": "stream",
     "text": [
      "2022-06-20 11:08:23,048 INFO sqlalchemy.engine.Engine BEGIN (implicit)\n",
      "2022-06-20 11:08:23,051 INFO sqlalchemy.engine.Engine SELECT * FROM user WHERE email = 'bong.olpoc@domain.com';\n",
      "2022-06-20 11:08:23,052 INFO sqlalchemy.engine.Engine [cached since 70.25s ago] {}\n",
      "2022-06-20 11:08:23,055 INFO sqlalchemy.engine.Engine ROLLBACK\n",
      "\n",
      "(3, 'Bong', 'Olpoc', 'bong.olpoc@domain.com')\n",
      "Bong\n"
     ]
    }
   ],
   "source": [
    "# Query the database\n",
    "\n",
    "with engine.connect() as conn:\n",
    "    query = '''SELECT * FROM user WHERE email = 'bong.olpoc@domain.com';'''\n",
    "    stmt = text(query)\n",
    "    res = conn.execute(stmt)\n",
    "\n",
    "results = res.first()\n",
    "print()\n",
    "# Print the whole row\n",
    "print(results)\n",
    "# Print only one attribute. The row is a named tuple so you can access attributes by name.\n",
    "print(results.first_name)"
   ]
  },
  {
   "cell_type": "code",
   "execution_count": 22,
   "metadata": {},
   "outputs": [
    {
     "name": "stdout",
     "output_type": "stream",
     "text": [
      "Welcome to the system!\n",
      "2022-06-20 11:18:29,417 INFO sqlalchemy.engine.Engine BEGIN (implicit)\n",
      "2022-06-20 11:18:29,420 INFO sqlalchemy.engine.Engine \n",
      "    INSERT INTO user (first_name, last_name, email)\n",
      "    VALUES\n",
      "    (%(first_name)s, %(last_name)s, %(email)s);\n",
      "    \n",
      "2022-06-20 11:18:29,422 INFO sqlalchemy.engine.Engine [generated in 0.00465s] {'first_name': 'Joe', 'last_name': 'Ilagan', 'email': 'joe.ilagan@domain.com'}\n",
      "2022-06-20 11:18:29,425 INFO sqlalchemy.engine.Engine COMMIT\n",
      "Exiting system.\n"
     ]
    }
   ],
   "source": [
    "# A sample interactive cell for people to create their own users\n",
    "# This assumes that your objects (e.g., engine) already exist\n",
    "\n",
    "print('Welcome to the system!')\n",
    "\n",
    "while True:\n",
    "    res = input(\"Would you like to create a user? (y/n)\")\n",
    "    if res == 'n':\n",
    "        print('Exiting system.')\n",
    "        break\n",
    "    # Gather information\n",
    "    first_name = input('What is your first name?')\n",
    "    last_name = input('What is your last name?')\n",
    "    email = input('What is your email address?')\n",
    "    # Store information in a dictionary\n",
    "    user = {'first_name': first_name, 'last_name': last_name, 'email': email}\n",
    "    # Generate query\n",
    "    query = '''\n",
    "    INSERT INTO user (first_name, last_name, email)\n",
    "    VALUES\n",
    "    (:first_name, :last_name, :email);\n",
    "    '''\n",
    "    stmt = text(query)\n",
    "    # Execute query\n",
    "    with engine.connect() as conn:\n",
    "        conn.execute(stmt, user)\n",
    "        conn.commit()\n"
   ]
  },
  {
   "cell_type": "code",
   "execution_count": null,
   "metadata": {},
   "outputs": [],
   "source": []
  }
 ],
 "metadata": {
  "kernelspec": {
   "display_name": "Python 3.10.4 ('env': venv)",
   "language": "python",
   "name": "python3"
  },
  "language_info": {
   "codemirror_mode": {
    "name": "ipython",
    "version": 3
   },
   "file_extension": ".py",
   "mimetype": "text/x-python",
   "name": "python",
   "nbconvert_exporter": "python",
   "pygments_lexer": "ipython3",
   "version": "3.10.4"
  },
  "orig_nbformat": 4,
  "vscode": {
   "interpreter": {
    "hash": "6693eb222009dcefe1c79dd83fb1334f6a8b508c68c5567b23aa91f668656f34"
   }
  }
 },
 "nbformat": 4,
 "nbformat_minor": 2
}
